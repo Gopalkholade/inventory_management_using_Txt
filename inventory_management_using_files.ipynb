{
 "cells": [
  {
   "cell_type": "markdown",
   "metadata": {
    "id": "_0xfMX6ShHLb"
   },
   "source": [
    "***inventory management system using files***\n",
    "<br>lecture 1"
   ]
  },
  {
   "cell_type": "code",
   "execution_count": 1,
   "metadata": {
    "id": "dxDZLW3ThHLh"
   },
   "outputs": [
    {
     "data": {
      "text/plain": [
       "<function TextIOWrapper.close()>"
      ]
     },
     "execution_count": 1,
     "metadata": {},
     "output_type": "execute_result"
    }
   ],
   "source": [
    "tx=open(\"D:/User/Data_science/geek_for_geeks/Inventory_management/inventory_management_files/inventory.txt\",\"a+\")\n",
    "tx.close"
   ]
  },
  {
   "cell_type": "markdown",
   "metadata": {
    "id": "drrJ6KkYhHLk"
   },
   "source": [
    "1.Product Id<br>\n",
    "2.Name of Product<br>\n",
    "3.Price of Product<br>\n",
    "4.Quantity of the Product"
   ]
  },
  {
   "cell_type": "code",
   "execution_count": 2,
   "metadata": {
    "id": "n_ygHbr3hHLk"
   },
   "outputs": [],
   "source": [
    "tx=open(\"inventory.txt\",\"r\")\n",
    "readdata=tx.read()\n",
    "tx.close()"
   ]
  },
  {
   "cell_type": "code",
   "execution_count": 3,
   "metadata": {
    "id": "3oV6zEzEhHLn"
   },
   "outputs": [],
   "source": [
    "inventory_list=readdata.split(\"\\n\")"
   ]
  },
  {
   "cell_type": "code",
   "execution_count": 4,
   "metadata": {
    "id": "eOdurVT0lkCw"
   },
   "outputs": [
    {
     "name": "stdout",
     "output_type": "stream",
     "text": [
      "1,5 star,5,100\n",
      "<class 'str'>\n",
      "2,milky bar,5,96\n",
      "<class 'str'>\n",
      "3,cake,300,5\n",
      "<class 'str'>\n",
      "4,candy,4,24\n",
      "<class 'str'>\n"
     ]
    }
   ],
   "source": [
    "for product in inventory_list:\n",
    "  print(product)\n",
    "  print(type(product))"
   ]
  },
  {
   "cell_type": "code",
   "execution_count": 5,
   "metadata": {},
   "outputs": [],
   "source": [
    "def is_match(inp,pattern):\n",
    "    return pattern.match(inp)\n",
    "\n",
    "def inpt(st,pattern):\n",
    "    inp=input(st)\n",
    "    if is_match(inp,pattern):\n",
    "        return inp\n",
    "    else:\n",
    "        return inpt('Enter a valid '+st,pattern)"
   ]
  },
  {
   "cell_type": "code",
   "execution_count": 6,
   "metadata": {
    "id": "SI3a7jj-kcYc"
   },
   "outputs": [
    {
     "name": "stdout",
     "output_type": "stream",
     "text": [
      "['1', '5 star', '5', '100']\n",
      "<class 'list'>\n",
      "['2', 'milky bar', '5', '96']\n",
      "<class 'list'>\n",
      "['3', 'cake', '300', '5']\n",
      "<class 'list'>\n",
      "['4', 'candy', '4', '24']\n",
      "<class 'list'>\n"
     ]
    }
   ],
   "source": [
    "for product in inventory_list:\n",
    "  product_list=product.split(\",\")\n",
    "  print(product_list)\n",
    "  print(type(product_list))"
   ]
  },
  {
   "cell_type": "code",
   "execution_count": 7,
   "metadata": {
    "id": "iBN7UG5lmF3r"
   },
   "outputs": [
    {
     "name": "stdout",
     "output_type": "stream",
     "text": [
      "-----------------------------\n",
      "Product Name     :  cake\n",
      "Price            :  300\n",
      "Quantity         :  4\n",
      "-----------------------------\n",
      "Billing Amount   :  1200\n",
      "-----------------------------\n",
      "-------------------\n",
      "Inventory Updated\n"
     ]
    }
   ],
   "source": [
    "#for noting the time of transaction\n",
    "import time\n",
    "\n",
    "# Reading the Inventory\n",
    "fd = open('Inventory.txt','r')  \n",
    "products = fd.read().split('\\n')\n",
    "fd.close()\n",
    "\n",
    "# Taking User Input\n",
    "import re\n",
    "Patt_number = re.compile(\"(0|91)?[6-9][0-9]{9}\")\n",
    "Patt_Mail   = re.compile(\"[A-Za-z0-9]+[@]+[\\w]+.+[\\w]+\")\n",
    "\n",
    "ui_username = input(\"Enter your Name: \")\n",
    "ui_phone    = inpt('Number:',Patt_number)\n",
    "ui_mail     = inpt('Mail: ',Patt_Mail)\n",
    "ui_prod_id  = input(\"Enter product ID: \")\n",
    "ui_prod_qn  = input(\"Enter product Quantity: \")\n",
    "\n",
    "updated_product_lst = []\n",
    "\n",
    "# Going through each product detail\n",
    "for product in products:\n",
    "    \n",
    "    prod_details = product.split(',')\n",
    "    \n",
    "    if(prod_details[0] == ui_prod_id):\n",
    "    # Checking if product exists or not\n",
    "\n",
    "        if (int(ui_prod_qn) <= int(prod_details[3])):\n",
    "        # If we're having enough quantity\n",
    "        \n",
    "            print(\"-----------------------------\")\n",
    "            print(\"Product Name     : \", prod_details[1])\n",
    "            print(\"Price            : \", prod_details[2]) \n",
    "            print(\"Quantity         : \", ui_prod_qn) \n",
    "            print(\"-----------------------------\")\n",
    "            print(\"Billing Amount   : \", int(ui_prod_qn) * int(prod_details[2]))\n",
    "            print(\"-----------------------------\")\n",
    "\n",
    "            # Updating Inventory list\n",
    "            prod_details[3] = str(int(prod_details[3]) - int(ui_prod_qn))\n",
    "            \n",
    "            # Generating Sales in Sales.txt\n",
    "            fd = open(\"Sales.txt\",'a')\n",
    "            sales_detail = ui_username +\",\"+ ui_phone +\",\"+ ui_mail +\",\"+prod_details[1] +\",\"+ ui_prod_id +\",\"+ ui_prod_qn +\",\"+ str(int(ui_prod_qn) * int(prod_details[2]))+\",\"+time.ctime()+ \"\\n\"\n",
    "            fd.write(sales_detail)\n",
    "            fd.close()\n",
    "            \n",
    "        else:\n",
    "        # If we're not having enough quantity\n",
    "        \n",
    "            print(\"Sorry, We're not having enought quantity.\")\n",
    "            print(\"We're having only\",prod_details[3],'quantity.')\n",
    "            print(\"Would you like to purchase it?\")\n",
    "            \n",
    "            ch = input(\"Press Y/N: \")\n",
    "            \n",
    "            if (ch == 'Y' or ch == 'y'):\n",
    "            # If you want to purchase with remaining quantity\n",
    "            \n",
    "                print(\"-----------------------------\")\n",
    "                print(\"Product Name     : \", prod_details[1])\n",
    "                print(\"Price            : \", prod_details[2]) \n",
    "                print(\"Quantity         : \", prod_details[3]) \n",
    "                print(\"-----------------------------\")\n",
    "                print(\"Billing Amount   : \", int(prod_details[3]) * int(prod_details[2]))\n",
    "                print(\"-----------------------------\")\n",
    "            \n",
    "                # Updating Inventory list\n",
    "                prod_details[3] = '0'\n",
    "\n",
    "            else:\n",
    "                print(\"Thanks\")\n",
    "            \n",
    "    # Updating my Inventory List\n",
    "    updated_product_lst.append(prod_details)\n",
    "    \n",
    "\n",
    "    \n",
    "lst = []\n",
    "\n",
    "# Updating my Inventory String\n",
    "for i in updated_product_lst:\n",
    "    prod = i[0] +\",\"+  i[1] +\",\"+ i[2] +\",\"+ i[3] + '\\n'\n",
    "    lst.append(prod)\n",
    "\n",
    "    \n",
    "lst[-1] = lst[-1][:-1]\n",
    "    \n",
    "\n",
    "# Updating Inventory File\n",
    "fd = open('Inventory.txt','w')\n",
    "\n",
    "for i in lst:\n",
    "    fd.write(i)\n",
    "\n",
    "fd.close()\n",
    "\n",
    "print(\"-------------------\")\n",
    "print(\"Inventory Updated\")"
   ]
  },
  {
   "cell_type": "code",
   "execution_count": null,
   "metadata": {
    "id": "YbVYChRYbOqR"
   },
   "outputs": [],
   "source": []
  }
 ],
 "metadata": {
  "colab": {
   "collapsed_sections": [],
   "name": "inventory_management_using_files.ipynb",
   "provenance": []
  },
  "gpuClass": "standard",
  "kernelspec": {
   "display_name": "Python 3 (ipykernel)",
   "language": "python",
   "name": "python3"
  },
  "language_info": {
   "codemirror_mode": {
    "name": "ipython",
    "version": 3
   },
   "file_extension": ".py",
   "mimetype": "text/x-python",
   "name": "python",
   "nbconvert_exporter": "python",
   "pygments_lexer": "ipython3",
   "version": "3.9.12"
  },
  "vscode": {
   "interpreter": {
    "hash": "b2457210ea716e35dc15c425b29cd0d6b7697c1e848a156279e9b72b004d2971"
   }
  }
 },
 "nbformat": 4,
 "nbformat_minor": 1
}
